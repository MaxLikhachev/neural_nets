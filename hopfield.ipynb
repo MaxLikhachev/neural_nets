{
 "cells": [
  {
   "cell_type": "markdown",
   "metadata": {},
   "source": [
    "# Hopfield Network\n",
    "###### data reconstruction"
   ]
  },
  {
   "cell_type": "markdown",
   "metadata": {},
   "source": [
    "Import dependencies"
   ]
  },
  {
   "cell_type": "code",
   "execution_count": 1,
   "metadata": {
    "collapsed": true
   },
   "outputs": [],
   "source": [
    "import numpy as np\n",
    "import matplotlib.pyplot as plt\n",
    "%matplotlib inline"
   ]
  },
  {
   "cell_type": "markdown",
   "metadata": {},
   "source": [
    "### Util functions"
   ]
  },
  {
   "cell_type": "markdown",
   "metadata": {},
   "source": [
    "function to plot the images after during testing phase"
   ]
  },
  {
   "cell_type": "code",
   "execution_count": 2,
   "metadata": {
    "collapsed": true
   },
   "outputs": [],
   "source": [
    "def plot_images(images, title, no_i_x, no_i_y=3):\n",
    "    fig = plt.figure(figsize=(10, 15))\n",
    "    fig.canvas.set_window_title(title)\n",
    "    images = np.array(images).reshape(-1, 5, 5)\n",
    "    images = np.pad(images, ((0, 0), (1, 1), (1, 1)), 'constant', constant_values=-1)\n",
    "    for i in range(no_i_x):\n",
    "        for j in range(no_i_y):\n",
    "            ax = fig.add_subplot(no_i_x, no_i_y, no_i_x * j + (i + 1))\n",
    "            ax.matshow(images[no_i_x * j + i], cmap=\"gray\")\n",
    "            plt.xticks(np.array([]))\n",
    "            plt.yticks(np.array([]))\n",
    "\n",
    "            if j == 0 and i == 0:\n",
    "                ax.set_title(\"Real\")\n",
    "            elif j == 0 and i == 1:\n",
    "                ax.set_title(\"Distorted\")\n",
    "            elif j == 0 and i == 2:\n",
    "                ax.set_title(\"Reconstructed\")"
   ]
  },
  {
   "cell_type": "markdown",
   "metadata": {},
   "source": [
    "####  Dummy Data"
   ]
  },
  {
   "cell_type": "code",
   "execution_count": 3,
   "metadata": {
    "collapsed": true
   },
   "outputs": [],
   "source": [
    "perfect_data = {\n",
    "    \"P\": [1, 1, 1, 1, -1, 1, -1, -1, -1, 1, 1, 1, 1, 1, -1, 1, -1, -1, -1, -1, 1, -1, -1, -1, -1],\n",
    "    \"Y\": [1, -1, -1, -1, 1, -1, 1, -1, 1, -1, -1, -1, 1, -1, -1, -1, -1, 1, -1, -1, -1, -1, 1, -1, -1],\n",
    "    \"T\": [1, 1, 1, 1, 1, -1, -1, 1, -1, -1, -1, -1, 1, -1, -1, -1, -1, 1, -1, -1, -1, -1, 1, -1, -1],\n",
    "    \"H\": [1, -1, -1, -1, 1, 1, -1, -1, -1, 1, 1, 1, 1, 1, 1, 1, -1, -1, -1, 1, 1, -1, -1, -1, 1],\n",
    "    \"O\": [1, 1, 1, 1, 1, 1, -1, -1, -1, 1, 1, -1, -1, -1, 1, 1, -1, -1, -1, 1, 1, 1, 1, 1, 1],\n",
    "    \"N\": [1, -1, -1, -1, 1, 1, 1, -1, -1, 1, 1, -1, 1, -1, 1, 1, -1, -1, 1, 1, 1, -1, -1, -1, 1]\n",
    "}"
   ]
  },
  {
   "cell_type": "markdown",
   "metadata": {},
   "source": [
    "### Pre-Process Data"
   ]
  },
  {
   "cell_type": "markdown",
   "metadata": {},
   "source": [
    "##### Data Parameters"
   ]
  },
  {
   "cell_type": "markdown",
   "metadata": {},
   "source": [
    "Hopfield networks can hold about 0.138 \\* n_neurons for better denoising <br>\n",
    "0.138 \\* n_neurons = 0.138 \\* 25 = 3.45 ~ 3 <br>"
   ]
  },
  {
   "cell_type": "code",
   "execution_count": 4,
   "metadata": {
    "collapsed": true
   },
   "outputs": [],
   "source": [
    "n_train = 3"
   ]
  },
  {
   "cell_type": "code",
   "execution_count": 5,
   "metadata": {
    "collapsed": true
   },
   "outputs": [],
   "source": [
    "n_test = 100"
   ]
  },
  {
   "cell_type": "code",
   "execution_count": 6,
   "metadata": {
    "collapsed": true
   },
   "outputs": [],
   "source": [
    "# no of images to show in output plot\n",
    "n_train_disp = 10\n",
    "\n",
    "# Amount of distortion (0 < distort < 1)\n",
    "distort = 0.1\n",
    "\n",
    "# Size of image(width)\n",
    "n_side = 5\n",
    "\n",
    "# No of neurons\n",
    "n_neurons = n_side * n_side"
   ]
  },
  {
   "cell_type": "code",
   "execution_count": 7,
   "metadata": {
    "collapsed": true
   },
   "outputs": [],
   "source": [
    "train_data = [np.array(d) for d in perfect_data.values()][:n_train]"
   ]
  },
  {
   "cell_type": "markdown",
   "metadata": {},
   "source": [
    "Generate test data by adding noise to train data"
   ]
  },
  {
   "cell_type": "code",
   "execution_count": 8,
   "metadata": {
    "collapsed": true
   },
   "outputs": [],
   "source": [
    "test_data = []\n",
    "for d in range(n_test):\n",
    "    r_i = np.random.randint(0, n_train)\n",
    "    base_pattern = np.array(train_data[r_i])\n",
    "    noise = 1 * (np.random.random(base_pattern.shape) > distort)\n",
    "    np.place(noise, noise == 0, -1)\n",
    "    noisy_pattern = np.multiply(base_pattern, noise)\n",
    "    test_data.append((base_pattern, noisy_pattern))"
   ]
  },
  {
   "cell_type": "markdown",
   "metadata": {},
   "source": [
    "### Neural Network"
   ]
  },
  {
   "cell_type": "markdown",
   "metadata": {},
   "source": [
    "Function to train the network using Hebbian learning rule"
   ]
  },
  {
   "cell_type": "code",
   "execution_count": 9,
   "metadata": {
    "collapsed": true
   },
   "outputs": [],
   "source": [
    "def train(neu, training_data):\n",
    "    w = np.zeros([neu, neu])\n",
    "    for data in training_data:\n",
    "        w += np.outer(data, data)\n",
    "    for diag in range(neu):\n",
    "        w[diag][diag] = 0\n",
    "    return w"
   ]
  },
  {
   "cell_type": "markdown",
   "metadata": {},
   "source": [
    "Function to test the network"
   ]
  },
  {
   "cell_type": "code",
   "execution_count": 10,
   "metadata": {
    "collapsed": true
   },
   "outputs": [],
   "source": [
    "def test(weights, testing_data):\n",
    "    success = 0.0\n",
    "\n",
    "    output_data = []\n",
    "\n",
    "    for data in testing_data:\n",
    "        true_data = data[0]\n",
    "        noisy_data = data[1]\n",
    "        predicted_data = retrieve_pattern(weights, noisy_data)\n",
    "        if np.array_equal(true_data, predicted_data):\n",
    "            success += 1.0\n",
    "        output_data.append([true_data, noisy_data, predicted_data])\n",
    "\n",
    "    return (success / len(testing_data)), output_data"
   ]
  },
  {
   "cell_type": "markdown",
   "metadata": {},
   "source": [
    "Function to retrieve individual noisy patterns"
   ]
  },
  {
   "cell_type": "code",
   "execution_count": 11,
   "metadata": {
    "collapsed": true
   },
   "outputs": [],
   "source": [
    "def retrieve_pattern(weights, data, steps=10):\n",
    "    res = np.array(data)\n",
    "\n",
    "    for _ in range(steps):\n",
    "        for i in range(len(res)):\n",
    "            raw_v = np.dot(weights[i], res)\n",
    "            if raw_v > 0:\n",
    "                res[i] = 1\n",
    "            else:\n",
    "                res[i] = -1\n",
    "    return res"
   ]
  },
  {
   "cell_type": "markdown",
   "metadata": {},
   "source": [
    "#### Train"
   ]
  },
  {
   "cell_type": "code",
   "execution_count": 12,
   "metadata": {
    "collapsed": true
   },
   "outputs": [],
   "source": [
    "W = train(n_neurons, train_data)"
   ]
  },
  {
   "cell_type": "markdown",
   "metadata": {},
   "source": [
    "#### Test"
   ]
  },
  {
   "cell_type": "code",
   "execution_count": 13,
   "metadata": {
    "collapsed": true
   },
   "outputs": [],
   "source": [
    "accuracy, op_imgs = test(W, test_data)"
   ]
  },
  {
   "cell_type": "markdown",
   "metadata": {},
   "source": [
    "Print accuracy"
   ]
  },
  {
   "cell_type": "code",
   "execution_count": 14,
   "metadata": {},
   "outputs": [
    {
     "name": "stdout",
     "output_type": "stream",
     "text": [
      "Accuracy of the network is 97.000000\n"
     ]
    }
   ],
   "source": [
    "print(\"Accuracy of the network is %f\" % (accuracy * 100))"
   ]
  },
  {
   "cell_type": "markdown",
   "metadata": {},
   "source": [
    "#### Plot test result"
   ]
  },
  {
   "cell_type": "code",
   "execution_count": 15,
   "metadata": {},
   "outputs": [
    {
     "name": "stderr",
     "output_type": "stream",
     "text": [
      "/var/folders/k_/kqlzkhx57js1q_d_y9phwhxh0000gn/T/ipykernel_24646/1776132118.py:3: MatplotlibDeprecationWarning: \n",
      "The set_window_title function was deprecated in Matplotlib 3.4 and will be removed two minor releases later. Use manager.set_window_title or GUI-specific methods instead.\n",
      "  fig.canvas.set_window_title(title)\n"
     ]
    },
    {
     "data": {
      "image/png": "[encoded data removed]",
      "text/plain": [
       "<Figure size 720x1080 with 30 Axes>"
      ]
     },
     "metadata": {},
     "output_type": "display_data"
    }
   ],
   "source": [
    "plot_images(op_imgs, \"Reconstructed Data\", n_train_disp)\n",
    "plt.show()"
   ]
  }
 ],
 "metadata": {
  "kernelspec": {
   "display_name": "Python 3",
   "language": "python",
   "name": "python3"
  },
  "language_info": {
   "codemirror_mode": {
    "name": "ipython",
    "version": 3
   },
   "file_extension": ".py",
   "mimetype": "text/x-python",
   "name": "python",
   "nbconvert_exporter": "python",
   "pygments_lexer": "ipython3",
   "version": "3.9.8"
  }
 },
 "nbformat": 4,
 "nbformat_minor": 2
}
